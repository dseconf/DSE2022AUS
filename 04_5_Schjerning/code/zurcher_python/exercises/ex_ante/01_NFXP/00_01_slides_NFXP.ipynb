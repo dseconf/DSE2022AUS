{
 "cells": [
  {
   "cell_type": "markdown",
   "id": "round-collar",
   "metadata": {
    "slideshow": {
     "slide_type": "slide"
    }
   },
   "source": [
    "## Plan for today:\n",
    "\n",
    "Solve exercise 1\n",
    "\n",
    "\n",
    "* Learn to estimate a dynamic discrete choice model\n",
    "\n",
    "* Solve the engine replacement model"
   ]
  },
  {
   "cell_type": "markdown",
   "id": "missing-burns",
   "metadata": {
    "slideshow": {
     "slide_type": "slide"
    }
   },
   "source": [
    "# Exercise 1: The Engine Replacement Model\n",
    "\n",
    "Consider the engine replacement model given by:\n",
    "\n",
    "$$\n",
    "V(x,\\varepsilon) = \\max_{d\\in \\{0,1\\}} \\big\\{ u(x,d) + \\varepsilon_d + \\beta\n",
    "\\underbrace{\\int_{X} \\int_{\\Omega} V(x',\\varepsilon') \\pi(x'|x,d) q(\\varepsilon'|x') dx' d\\varepsilon' }_{EV(x,d)} \\big\\}\n",
    "$$\n",
    "\n",
    "Where $ \\varepsilon $ is extreme value Type I distribued and utility is given by:\n",
    "\n",
    "$$\n",
    "u(x,d)=\\left \\{\n",
    "\\begin{array}{ll}\n",
    "    -RC-c(0,\\theta_1) & \\text{if }d=\\text{replace}=1 \\\\\n",
    "    -c(x,\\theta_1) & \\text{if }d=\\text{keep}=0\n",
    "\\end{array} \\right.\n",
    "$$\n",
    "\n",
    "Here\n",
    "\n",
    "- $ RC $ = replacement cost  \n",
    "- $ c(x,\\theta_1)  = \\theta_1 x$, cost of maintenance with preference parameters $ \\theta_1 $  \n"
   ]
  },
  {
   "cell_type": "markdown",
   "id": "exotic-naples",
   "metadata": {
    "slideshow": {
     "slide_type": "slide"
    }
   },
   "source": [
    "The model is a logit model, but with a forward looking agent. If we set $\\beta=0$, we are in the standard logit case:\n",
    "\n",
    "$$\n",
    "V(x,\\varepsilon) = \\max_{d\\in \\{0,1\\}} \\big\\{ u(x,d) + \\varepsilon_d + \\underbrace{\\beta}_{=0}\n",
    "\\underbrace{\\int_{X} \\int_{\\Omega} V(x',\\varepsilon') \\pi(x'|x,d) q(\\varepsilon'|x') dx' d\\varepsilon' }_{EV(x,d)} \\big\\} = \\max_{d\\in \\{0,1\\}} \\big\\{ u(x,d) + \\varepsilon_d \\big\\}\n",
    "$$\n",
    "\n",
    "Remember, the choice probability of the logit model is simply (for $\\beta=0$):\n",
    "\n",
    "$$\n",
    "P(0|x) = \\frac{\\exp[ u(x,0)   ]}{\\sum_{d\\in \\{0,1\\}} \\exp[u(x,d)]}\n",
    "$$"
   ]
  },
  {
   "cell_type": "markdown",
   "id": "lucky-journalism",
   "metadata": {
    "slideshow": {
     "slide_type": "slide"
    }
   },
   "source": [
    "In the dynamic case, we need to incorporate the discounted utility of the future:\n",
    "\n",
    "$$\n",
    "P(0|x) = \\frac{\\exp[ u(x,0) + \\beta EV(x,0)  ]}{\\sum_{d\\in \\{0,1\\}} \\exp[u(x,d) + \\beta EV(x,d)]}\n",
    "$$\n",
    "\n",
    "Thus, the only thing new going on compared to a regular logit is that we need to solve for $EV(x,d)$.\n",
    "\n"
   ]
  },
  {
   "cell_type": "markdown",
   "id": "legislative-railway",
   "metadata": {
    "slideshow": {
     "slide_type": "slide"
    }
   },
   "source": [
    "How do we find $EV(x,d)=\\int_{X} \\int_{\\Omega} V(x',\\varepsilon') \\pi(x'|x,d) q(\\varepsilon'|x') dx' d\\varepsilon' $?\n",
    "\n",
    "$$\n",
    "\\begin{eqnarray}\n",
    "EV(x,d) &=& \\int_{X} \\log \\big( \\sum_{d\\in \\{0,1\\}} \\exp[u(x,d) + \\beta EV(x,d)] \\big) \\pi(x'|x,d) dx' \\\\\n",
    "\\end{eqnarray}\n",
    "$$\n",
    "\n",
    "The expected value of the error terms is the so called log-sum, which is just the log of the denominator in the choice probability (see Small and Rosen, Econometrica 1981).\n"
   ]
  },
  {
   "cell_type": "markdown",
   "id": "compatible-artist",
   "metadata": {
    "slideshow": {
     "slide_type": "slide"
    }
   },
   "source": [
    "Next, the integral $\\int_{X} \\log \\big( \\sum_{d\\in \\{0,1\\}} \\exp[u(x,d) + \\beta EV(x,d)] \\big) \\pi(x'|x,d) dx'$ is approximated by a weighted sum:\n",
    "\n",
    "$$\n",
    "EV(x,d) =\\underbrace{ \\sum_{X} \\log \\big( \\exp[u(x',0) + \\beta EV(x',0)] + \\exp[u(x',1) + \\beta EV(x',1)] \\big) \\pi(x'|x,d)}_{\\Gamma (EV)}\n",
    "$$\n",
    "\n"
   ]
  },
  {
   "cell_type": "markdown",
   "id": "constant-chapel",
   "metadata": {
    "slideshow": {
     "slide_type": "slide"
    }
   },
   "source": [
    "We need to solve the Bellman equation:\n",
    "\n",
    "$$EV = \\Gamma (EV)$$\n",
    "\n",
    "We can solve the equation by VFI (as we usually do), by Newton-Kantorovic (new procedure) or a combination of both, i.e. the poly algorithm."
   ]
  }
 ],
 "metadata": {
  "celltoolbar": "Slideshow",
  "kernelspec": {
   "display_name": "Python 3",
   "language": "python",
   "name": "python3"
  },
  "language_info": {
   "codemirror_mode": {
    "name": "ipython",
    "version": 3
   },
   "file_extension": ".py",
   "mimetype": "text/x-python",
   "name": "python",
   "nbconvert_exporter": "python",
   "pygments_lexer": "ipython3",
   "version": "3.7.9"
  }
 },
 "nbformat": 4,
 "nbformat_minor": 5
}
