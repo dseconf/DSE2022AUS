{
 "cells": [
  {
   "cell_type": "markdown",
   "id": "round-collar",
   "metadata": {
    "slideshow": {
     "slide_type": "slide"
    }
   },
   "source": [
    "## Plan for today:\n",
    "\n",
    "Solve exercise 2-3 (work on exercise 1, if you didn't finish last time)\n",
    "\n",
    "\n",
    "* Learn to simulate data for the engine replacement model (dynamic logit model)\n",
    "\n",
    "* Derive the demand curve for engines"
   ]
  },
  {
   "cell_type": "markdown",
   "id": "missing-burns",
   "metadata": {
    "slideshow": {
     "slide_type": "slide"
    }
   },
   "source": [
    "# Exercise 2: The Engine Replacement Model on Simulated Data\n",
    "\n",
    "Consider the engine replacement model given by:\n",
    "\n",
    "$$\n",
    "V(x,\\varepsilon) = \\max_{d\\in \\{0,1\\}} \\big\\{ u(x,d) + \\varepsilon_d + \\beta\n",
    "\\underbrace{\\int_{X} \\int_{\\Omega} V(x',\\varepsilon') \\pi(x'|x,d) q(\\varepsilon'|x') dx' d\\varepsilon' }_{EV(x,d)} \\big\\}\n",
    "$$\n",
    "\n",
    "Where $ \\varepsilon $ is extreme value Type I distribued and utility is given by:\n",
    "\n",
    "$$\n",
    "u(x,d)=\\left \\{\n",
    "\\begin{array}{ll}\n",
    "    -RC-c(0,\\theta_1) & \\text{if }d=\\text{replace}=1 \\\\\n",
    "    -c(x,\\theta_1) & \\text{if }d=\\text{keep}=0\n",
    "\\end{array} \\right.\n",
    "$$\n",
    "\n",
    "Here\n",
    "\n",
    "- $ RC $ = replacement cost  \n",
    "- $ c(x,\\theta_1)  = \\theta_1 x$, cost of maintenance with preference parameters $ \\theta_1 $  \n"
   ]
  },
  {
   "cell_type": "markdown",
   "id": "lucky-journalism",
   "metadata": {
    "slideshow": {
     "slide_type": "slide"
    }
   },
   "source": [
    "Why do we want to run the model on simulated data?\n",
    "\n",
    "* We can check, if we coded up the model correctly\n",
    "\n",
    "* We can spot, if our model is not identified\n",
    "\n",
    "* We can benchmark different methods against each other\n",
    "\n",
    "\n"
   ]
  },
  {
   "cell_type": "markdown",
   "id": "biblical-parking",
   "metadata": {
    "slideshow": {
     "slide_type": "slide"
    }
   },
   "source": [
    "How is the simulation done?\n",
    "\n",
    "1) Solve the model to get the choice probability for some grid $x$ and chosen parameter values, $\\theta$: \n",
    "\n",
    "$$\n",
    "\\underbrace{P(0|x)}_{\\text{Probability of keeping}} = \\frac{\\exp[ u(x,0) + \\beta EV(x,0)  ]}{\\sum_{d\\in \\{0,1\\}} \\exp[u(x,d) + \\beta EV(x,d)]}\n",
    "$$\n",
    "\n",
    "2) Create the data:\n",
    "\n",
    "* Generate the state variable $x$ using a random number generator for $t=1$.\n",
    "\n",
    "* Compare the choice probability to a uniform draw, $u$, to get $d=1$ or $d=0$:\n",
    "\n",
    "$$\n",
    "d =1\\left[\\underbrace{1- \\frac{\\exp[ u(x,0) + \\beta EV(x,0)  ]}{\\sum_{d\\in \\{0,1\\}} \\exp[u(x,d) + \\beta EV(x,d)]}}_{\\text{Probability of replacing}}>u \\right]\n",
    "$$\n",
    "\n",
    "* Use the transition probability $\\pi(x'|x,d)$ to\n",
    "\n",
    "3) Estimate the model using maximum likelihood to see if you get the correct parameter estimates. \n"
   ]
  }
 ],
 "metadata": {
  "celltoolbar": "Slideshow",
  "kernelspec": {
   "display_name": "Python 3",
   "language": "python",
   "name": "python3"
  },
  "language_info": {
   "codemirror_mode": {
    "name": "ipython",
    "version": 3
   },
   "file_extension": ".py",
   "mimetype": "text/x-python",
   "name": "python",
   "nbconvert_exporter": "python",
   "pygments_lexer": "ipython3",
   "version": "3.7.9"
  }
 },
 "nbformat": 4,
 "nbformat_minor": 5
}
