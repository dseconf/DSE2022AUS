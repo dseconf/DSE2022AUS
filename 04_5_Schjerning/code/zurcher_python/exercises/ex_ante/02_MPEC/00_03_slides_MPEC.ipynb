{
 "cells": [
  {
   "cell_type": "markdown",
   "id": "round-collar",
   "metadata": {
    "slideshow": {
     "slide_type": "slide"
    }
   },
   "source": [
    "## Plan for today:\n",
    "\n",
    "Solve exercise 4\n",
    "\n",
    "\n",
    "* Solve the engine replacement model using mathematical programming with equilibrium constraints (MPEC)"
   ]
  },
  {
   "cell_type": "markdown",
   "id": "missing-burns",
   "metadata": {
    "slideshow": {
     "slide_type": "slide"
    }
   },
   "source": [
    "# Exercise 4: Engine Replacement Model with MPEC\n",
    "\n",
    "Consider the engine replacement model given by:\n",
    "\n",
    "$$\n",
    "V(x,\\varepsilon) = \\max_{d\\in \\{0,1\\}} \\big\\{ u(x,d) + \\varepsilon_d + \\beta\n",
    "\\underbrace{\\int_{X} \\int_{\\Omega} V(x',\\varepsilon') \\pi(x'|x,d) q(\\varepsilon'|x') dx' d\\varepsilon' }_{EV(x,d)} \\big\\}\n",
    "$$\n",
    "\n",
    "Where $ \\varepsilon $ is extreme value Type I distribued and utility is given by:\n",
    "\n",
    "$$\n",
    "u(x,d)=\\left \\{\n",
    "\\begin{array}{ll}\n",
    "    -RC-c(0,\\theta_1) & \\text{if }d=\\text{replace}=1 \\\\\n",
    "    -c(x,\\theta_1) & \\text{if }d=\\text{keep}=0\n",
    "\\end{array} \\right.\n",
    "$$\n",
    "\n",
    "Here\n",
    "\n",
    "- $ RC $ = replacement cost  \n",
    "- $ c(x,\\theta_1)  = \\theta_1 x$, cost of maintenance with preference parameters $ \\theta_1 $  \n"
   ]
  },
  {
   "cell_type": "markdown",
   "id": "virgin-fusion",
   "metadata": {
    "slideshow": {
     "slide_type": "slide"
    }
   },
   "source": [
    "Recall the NFXP algorithm:\n",
    "\n",
    "$$\\max_{RC,\\theta_1}  \\big\\{ L\\big(RC,\\theta_1\\big)  \\big\\}$$\n",
    "\n",
    "Each time we change $RC, \\theta_1$ in the maximization process, we need to solve: \n",
    "\n",
    "$$EV(x,d)=\\Gamma (EV)=\\int_{X} \\int_{\\Omega} V(x',\\varepsilon') \\pi(x'|x,d) q(\\varepsilon'|x') dx' d\\varepsilon' $$"
   ]
  },
  {
   "cell_type": "markdown",
   "id": "lucky-journalism",
   "metadata": {
    "slideshow": {
     "slide_type": "slide"
    }
   },
   "source": [
    "So what is MPEC?\n",
    "\n",
    "\\begin{align}\n",
    "    \\begin{split}\n",
    "    \\max_{RC,\\theta_1,EV} & \\big\\{ L\\big(RC,\\theta_1,EV\\big)  \\big\\} \\\\\n",
    "    & s.t. \\\\\n",
    "    EV & =\\Gamma(EV) \\Rightarrow EV - \\Gamma(EV) =0\n",
    "    \\end{split}\n",
    "\\end{align}\n",
    "\n",
    "Where $EV=(EV(1),EV(2),...,EV(n))$.\n",
    "\n",
    "\n"
   ]
  },
  {
   "cell_type": "markdown",
   "id": "biblical-parking",
   "metadata": {
    "slideshow": {
     "slide_type": "slide"
    }
   },
   "source": [
    "Remember the log-likelihood constribution is simply given by the choice probability of the chosen alternative:\n",
    "\n",
    "$$L_{it}(RC,\\theta_1,EV) = \\log ( P(d_{it}|x_{it})) $$\n",
    "\n",
    "Where\n",
    "\n",
    "$$\n",
    "P(d_{it}|x_{it}) = \\frac{\\exp[ u(x_{it},d_{it}) + \\beta EV(x_{it},d_{it})  ]}{\\sum_{d_{it}\\in \\{0,1\\}} \\exp[u(x_{it},d_{it}) + \\beta EV(x_{it},d_{it})]}\n",
    "$$\n",
    "\n",
    "We could simply pass the log-likelihood function to the solver and maximize it. However, it becomes infeasible if our state space is large (the EV vector is large), because the gradient and hessian will be approximated numerically.\n"
   ]
  },
  {
   "attachments": {
    "billede.png": {
     "image/png": "[encoded data removed]"
    }
   },
   "cell_type": "markdown",
   "id": "living-remark",
   "metadata": {
    "slideshow": {
     "slide_type": "slide"
    }
   },
   "source": [
    "* Why do we need the hessian and the gradiant again? We need it for the hill-climbing algorithm, i.e. the solver.\n",
    "\n",
    "* We looked at the Newton's method (very simple hill-climbing algorithm) to solve $f(x)=0$, where $f(x)$ is the gradient.\n",
    "\n",
    "$$x_{n+1} = x_{n} - \\frac{f(x_n)}{f'(x_n)}$$\n",
    "\n",
    "![billede.png](attachment:billede.png)"
   ]
  },
  {
   "cell_type": "markdown",
   "id": "exempt-warning",
   "metadata": {
    "slideshow": {
     "slide_type": "slide"
    }
   },
   "source": [
    "In our model, the gradient of the likelihood is not a scalar, but a vector:\n",
    "\n",
    "\\begin{align}\n",
    "    \\underbrace{\\begin{bmatrix}\n",
    "    \\frac{\\partial L\\big(RC,\\theta_1,EV\\big)}{\\partial RC} \\\\\n",
    "    \\frac{\\partial L\\big(RC,\\theta_1,EV\\big)}{\\partial \\theta_1}  \\\\\n",
    "     \\frac{\\partial L\\big(RC,\\theta_1,EV\\big)}{\\partial EV(1)}  \\\\\n",
    "     ... \\\\\n",
    "     \\frac{\\partial L\\big(RC,\\theta_1,EV\\big)}{\\partial EV(n)}\n",
    "    \\end{bmatrix}}_{(2+n) \\times 1} =0\n",
    "\\end{align}"
   ]
  },
  {
   "cell_type": "markdown",
   "id": "broad-filename",
   "metadata": {
    "slideshow": {
     "slide_type": "slide"
    }
   },
   "source": [
    "Next, the hessian of the likelihood is matrix:\n",
    "$$\n",
    "\\underbrace{\\begin{bmatrix}\n",
    "    \\frac{\\partial^2 L\\big(RC,\\theta_1,EV\\big)}{\\partial^2 (RC)} & \\dots & \\frac{\\partial^2 L\\big(RC,\\theta_1,EV\\big)}{\\partial (RC) \\partial EV(n)} \\\\\n",
    "    \\frac{\\partial^2 L\\big(RC,\\theta_1,EV\\big)}{\\partial \\theta_1 \\partial (RC)} & \\dots & \\frac{\\partial^2 L\\big(RC,\\theta_1,EV\\big)}{\\partial (\\theta_1) \\partial EV(n)}  \\\\\n",
    "     \\frac{\\partial^2 L\\big(RC,\\theta_1,EV\\big)}{\\partial EV(1)  \\partial (RC)} & \\dots & \\frac{\\partial^2 L\\big(RC,\\theta_1,EV\\big)}{\\partial (EV(1)) \\partial EV(n)}  \\\\\n",
    "     \\dots &  & \\dots \\\\\n",
    "     \\frac{\\partial^2 L\\big(RC,\\theta_1,EV\\big)}{\\partial EV(n)  \\partial (RC)} & \\dots & \\frac{\\partial^2 L\\big(RC,\\theta_1,EV\\big)}{ \\partial^2 EV(n)}\n",
    "\\end{bmatrix}}_{(2+n) \\times (2+n)}\n",
    "$$"
   ]
  },
  {
   "cell_type": "markdown",
   "id": "failing-donna",
   "metadata": {
    "slideshow": {
     "slide_type": "slide"
    }
   },
   "source": [
    "We also need to take into account the constraints:\n",
    "\n",
    "$$F(RC,\\theta_1,EV)=\\underbrace{EV-\\Gamma (EV)}_ {n \\times 1}=0$$\n",
    "\n",
    "And the derivatives of the constraints:\n",
    "\n",
    "\n",
    "$$\\underbrace{\\frac{\\partial F(RC,\\theta_1,EV) }{\\partial (RC,\\theta_1,EV)}}_{n \\times (2+n)}  $$\n",
    "\n",
    "\n",
    "Now feed all these functions into the solver. Remember to take into account the sparsity patterns, i.e. that many of the elements are zero in the hessian and gradient of the constraint."
   ]
  }
 ],
 "metadata": {
  "celltoolbar": "Slideshow",
  "kernelspec": {
   "display_name": "Python 3",
   "language": "python",
   "name": "python3"
  },
  "language_info": {
   "codemirror_mode": {
    "name": "ipython",
    "version": 3
   },
   "file_extension": ".py",
   "mimetype": "text/x-python",
   "name": "python",
   "nbconvert_exporter": "python",
   "pygments_lexer": "ipython3",
   "version": "3.7.9"
  }
 },
 "nbformat": 4,
 "nbformat_minor": 5
}
