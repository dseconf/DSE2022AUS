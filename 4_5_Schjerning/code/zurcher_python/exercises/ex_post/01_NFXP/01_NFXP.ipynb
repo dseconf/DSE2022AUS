{
 "cells": [
  {
   "cell_type": "code",
   "execution_count": 2,
   "metadata": {},
   "outputs": [
    {
     "name": "stdout",
     "output_type": "stream",
     "text": [
      "The autoreload extension is already loaded. To reload it, use:\n",
      "  %reload_ext autoreload\n"
     ]
    }
   ],
   "source": [
    "# magics: ensures that any changes to the modules loaded below will be re-loaded automatically\n",
    "%load_ext autoreload\n",
    "%autoreload 2\n",
    "# %load_ext line_profiler\n",
    "\n",
    "# load general packages\n",
    "import numpy as np\n",
    "import matplotlib.pyplot as plt\n",
    "plt.style.use('seaborn-whitegrid')\n",
    "\n",
    "# load modules related to this exercise\n",
    "from model_zucher import zurcher\n",
    "from Solve_NFXP import solve_NFXP\n",
    "import estimate_NFXP as estimate"
   ]
  },
  {
   "cell_type": "markdown",
   "metadata": {},
   "source": [
    "#### Before solving the exercise, you should download line_profiler. Line_profiler is a tool to check the performance of our code. To install line_profiler, you can open anaconda prompt and write \"pip install line-profiler\" (without the \" \" of course). If you want to know more about line_profiler, check the link below:\n",
    "\n",
    "https://github.com/rkern/line_profiler."
   ]
  },
  {
   "cell_type": "markdown",
   "metadata": {},
   "source": [
    "# Exercise 1"
   ]
  },
  {
   "cell_type": "markdown",
   "metadata": {},
   "source": [
    "#### Consider the engine replacement model given by:\n",
    "\n",
    "$$\n",
    "V(x,\\varepsilon) = \\max_{d\\in \\{0,1\\}} \\big\\{ u(x,d) + \\varepsilon_d + \\beta\n",
    "\\underbrace{\\int_{X} \\int_{\\Omega} V(x',\\varepsilon') \\pi(x'|x,d) q(\\varepsilon'|x') dx' d\\varepsilon' }_{EV(x,d)} \\big\\}\n",
    "$$\n",
    "\n",
    "Where $ \\varepsilon $ is extreme value Type I distribued and utility is given by:\n",
    "\n",
    "$$\n",
    "u(x,d)=\\left \\{\n",
    "\\begin{array}{ll}\n",
    "    -RC-c(0,\\theta_1) & \\text{if }d=\\text{replace}=1 \\\\\n",
    "    -c(x,\\theta_1) & \\text{if }d=\\text{keep}=0\n",
    "\\end{array} \\right.\n",
    "$$\n",
    "\n",
    "Here\n",
    "\n",
    "- $ RC $ = replacement cost  \n",
    "- $ c(x,\\theta_1) $ = cost of maintenance with preference parameters $ \\theta_1 $  \n",
    "\n",
    "\n"
   ]
  },
  {
   "cell_type": "markdown",
   "metadata": {},
   "source": [
    "#### 1. Look at ReadMe.txt to get an overview of the code"
   ]
  },
  {
   "cell_type": "markdown",
   "metadata": {},
   "source": [
    "#### 2. Invistigate how the code works, that is ensure you understand:\n",
    "<il type =\"a\">\n",
    "<li> zurcher.init</li>\n",
    "<li> zurcher.setup</li>\n",
    "<li> zurcher.create_grid</li>\n",
    "<li> zucher.state_transition </li>\n",
    "<li> zucher.bellman </li>\n",
    "\n",
    "You can see how they are called below\n",
    "    "
   ]
  },
  {
   "cell_type": "markdown",
   "metadata": {},
   "source": [
    "#### 3. Fill in the missing stuff in the function zucher.bellman and run the code below. "
   ]
  },
  {
   "cell_type": "code",
   "execution_count": 2,
   "metadata": {},
   "outputs": [
    {
     "name": "stdout",
     "output_type": "stream",
     "text": [
      "Model grid:\n",
      " [ 0  1  2  3  4  5  6  7  8  9 10 11]\n",
      "Transition probabilities conditional on not replacing:\n",
      " [[0.65 0.2  0.1  0.05 0.   0.   0.   0.   0.   0.   0.   0.  ]\n",
      " [0.   0.65 0.2  0.1  0.05 0.   0.   0.   0.   0.   0.   0.  ]\n",
      " [0.   0.   0.65 0.2  0.1  0.05 0.   0.   0.   0.   0.   0.  ]\n",
      " [0.   0.   0.   0.65 0.2  0.1  0.05 0.   0.   0.   0.   0.  ]\n",
      " [0.   0.   0.   0.   0.65 0.2  0.1  0.05 0.   0.   0.   0.  ]\n",
      " [0.   0.   0.   0.   0.   0.65 0.2  0.1  0.05 0.   0.   0.  ]\n",
      " [0.   0.   0.   0.   0.   0.   0.65 0.2  0.1  0.05 0.   0.  ]\n",
      " [0.   0.   0.   0.   0.   0.   0.   0.65 0.2  0.1  0.05 0.  ]\n",
      " [0.   0.   0.   0.   0.   0.   0.   0.   0.65 0.2  0.1  0.05]\n",
      " [0.   0.   0.   0.   0.   0.   0.   0.   0.   0.65 0.2  0.15]\n",
      " [0.   0.   0.   0.   0.   0.   0.   0.   0.   0.   0.65 0.35]\n",
      " [0.   0.   0.   0.   0.   0.   0.   0.   0.   0.   0.   1.  ]]\n",
      "Transition probabilities conditional on replacing:\n",
      " [[0.65 0.2  0.1  0.05 0.   0.   0.   0.   0.   0.   0.   0.  ]\n",
      " [0.65 0.2  0.1  0.05 0.   0.   0.   0.   0.   0.   0.   0.  ]\n",
      " [0.65 0.2  0.1  0.05 0.   0.   0.   0.   0.   0.   0.   0.  ]\n",
      " [0.65 0.2  0.1  0.05 0.   0.   0.   0.   0.   0.   0.   0.  ]\n",
      " [0.65 0.2  0.1  0.05 0.   0.   0.   0.   0.   0.   0.   0.  ]\n",
      " [0.65 0.2  0.1  0.05 0.   0.   0.   0.   0.   0.   0.   0.  ]\n",
      " [0.65 0.2  0.1  0.05 0.   0.   0.   0.   0.   0.   0.   0.  ]\n",
      " [0.65 0.2  0.1  0.05 0.   0.   0.   0.   0.   0.   0.   0.  ]\n",
      " [0.65 0.2  0.1  0.05 0.   0.   0.   0.   0.   0.   0.   0.  ]\n",
      " [0.65 0.2  0.1  0.05 0.   0.   0.   0.   0.   0.   0.   0.  ]\n",
      " [0.65 0.2  0.1  0.05 0.   0.   0.   0.   0.   0.   0.   0.  ]\n",
      " [0.65 0.2  0.1  0.05 0.   0.   0.   0.   0.   0.   0.   0.  ]]\n",
      "Bellman one run:\n",
      " [0.47323702 0.47170994 0.47018428 0.46866004 0.46713722 0.46561582\n",
      " 0.46409584 0.46257729 0.46106015 0.45962006 0.45833254 0.45734867]\n"
     ]
    }
   ],
   "source": [
    "do_settings = {\n",
    "    'RC': 0.5,\n",
    "    'n': 12,\n",
    "    'p':[0.65,0.2,0.1]   \n",
    "}\n",
    "model = zurcher(**do_settings)\n",
    "\n",
    "print('Model grid:\\n',model.grid)\n",
    "print('Transition probabilities conditional on not replacing:\\n',model.P1)\n",
    "print('Transition probabilities conditional on replacing:\\n',model.P2)\n",
    "ev,pk, dev = model.bellman(np.zeros((model.n)),output=3)\n",
    "print('Bellman one run:\\n',ev)"
   ]
  },
  {
   "cell_type": "markdown",
   "metadata": {},
   "source": [
    "### Newton's Method\n",
    "\n",
    "Next, we need to solve the model. Rust 1987 uses Newton–Kantorovich (NK) theorem to solve the Bellman equation in the engine replacement model. To understand the NK algorithm, consider using the Newton's method to solve the single-variable equation, $f(x)=0$. The Newton method uses the iterative procedure stated below to solve the equation:\n",
    "\n",
    "$$x_{n+1} = x_{n} - \\frac{f(x_n)}{f'(x_n)}$$\n",
    "\n",
    "### 4. Use the Newton's Method to solve the equation below. Fill in the Newton step. Try to vary the starting value and see if the solution changes.\n",
    "\n",
    "\n",
    "$$f(x) = 3x^2 - \\exp(x)=0$$\n",
    "\n",
    "$$f'(x) = g(x) = 6x-\\exp(x) $$"
   ]
  },
  {
   "cell_type": "code",
   "execution_count": 3,
   "metadata": {},
   "outputs": [
    {
     "name": "stdout",
     "output_type": "stream",
     "text": [
      "Root of f(x): 3.73\n",
      "Number of iterations to archieve convergence: 6\n"
     ]
    },
    {
     "data": {
      "image/png": "[encoded data removed]",
      "text/plain": [
       "<Figure size 432x288 with 1 Axes>"
      ]
     },
     "metadata": {},
     "output_type": "display_data"
    }
   ],
   "source": [
    "f = lambda x: 3*x**2-np.exp(x)\n",
    "g = lambda x: 6*x-np.exp(x)\n",
    "\n",
    "def newton(f, g, x0, tol=10e-5, max_iter=100):\n",
    "    delta = 2000\n",
    "    it=0\n",
    "    while (max_iter>= it and tol<delta):\n",
    "        x1 = x0 - f(x0)/g(x0)\n",
    "        delta = abs(x1-x0)\n",
    "        it += 1\n",
    "        x0 = x1\n",
    "    return x1, it\n",
    "\n",
    "\n",
    "x0,it = newton(f = f, g = g, x0 = 5)\n",
    "\n",
    "x = np.linspace(-2, 4, num=100)\n",
    "fx = f(x)\n",
    "plt.plot(x, fx)\n",
    "plt.axhline(y=0, color='r', linestyle='-')\n",
    "\n",
    "print('Root of f(x):', round(x0,2))\n",
    "print('Number of iterations to archieve convergence:', it)"
   ]
  },
  {
   "cell_type": "markdown",
   "metadata": {},
   "source": [
    "### Newton-Kantorovich\n",
    "\n",
    "Now consider solving the engine replacement model. To do so, we need to find the expected value function that solves the Bellman equation.\n",
    "\n",
    "$$\n",
    "EV(x,d) =  \\Gamma(EV)(x,d) \\quad\\Leftrightarrow\\quad (I - \\Gamma)(EV)(x,d)=\\mathbb{0}\n",
    "$$\n",
    "\n",
    "Similar to the Newton iteration, the **NK iteration** uses the following equation\n",
    "\n",
    "$$\n",
    "EV_{k+1} = EV_{k} - (I-\\Gamma')^{-1} (I-\\Gamma)(EV_k)\n",
    "$$\n",
    "\n",
    "- The new operator is the difference between the identity operator \\$I\\$ and Bellman operator $ \\Gamma  $  \n",
    "- $ \\mathbb{0} $ is zero function  \n",
    "- $ I-\\Gamma' $ is a Fréchet derivative of the operator $ I-\\Gamma $  "
   ]
  },
  {
   "cell_type": "markdown",
   "metadata": {},
   "source": [
    "### 5. Solve the model. In order to solve the model, you should understand:\n",
    "<li> solve_NFXP.init</li>\n",
    "<li> solve_NFXP.setup</li>\n",
    "<li> solve_NFXP.poly </li>\n",
    "<li> solve_NFXP.sa </li>\n",
    "<li> solve_NFXP.nk </li>\n",
    "</il>\n",
    "You can see how they are called below: "
   ]
  },
  {
   "cell_type": "code",
   "execution_count": 4,
   "metadata": {},
   "outputs": [
    {
     "name": "stdout",
     "output_type": "stream",
     "text": [
      "Begin contraction iterations (for the 1 time)\n",
      "Iteration 1, tol     0.4273, tol(j)/tol(j-1)          1\n",
      "Iteration 2, tol     0.4272, tol(j)/tol(j-1)     0.9999\n",
      "Iteration 3, tol     0.4272, tol(j)/tol(j-1)     0.9999\n",
      "Iteration 4, tol     0.4271, tol(j)/tol(j-1)     0.9999\n",
      "Iteration 5, tol     0.4271, tol(j)/tol(j-1)     0.9998\n",
      "Iteration 6, tol      0.427, tol(j)/tol(j-1)     0.9998\n",
      "Iteration 7, tol     0.4269, tol(j)/tol(j-1)     0.9998\n",
      "Iteration 8, tol     0.4268, tol(j)/tol(j-1)     0.9997\n",
      "Iteration 9, tol     0.4266, tol(j)/tol(j-1)     0.9996\n",
      "Iteration 10, tol     0.4264, tol(j)/tol(j-1)     0.9995\n",
      "Iteration 11, tol     0.4261, tol(j)/tol(j-1)     0.9994\n",
      "Iteration 12, tol     0.4258, tol(j)/tol(j-1)     0.9991\n",
      "Iteration 13, tol     0.4253, tol(j)/tol(j-1)     0.9988\n",
      "Iteration 14, tol     0.4246, tol(j)/tol(j-1)     0.9984\n",
      "Iteration 15, tol     0.4237, tol(j)/tol(j-1)     0.9978\n",
      "Iteration 16, tol     0.4224, tol(j)/tol(j-1)      0.997\n",
      "Iteration 17, tol     0.4207, tol(j)/tol(j-1)      0.996\n",
      "Iteration 18, tol     0.4185, tol(j)/tol(j-1)     0.9947\n",
      "Iteration 19, tol     0.4156, tol(j)/tol(j-1)      0.993\n",
      "Iteration 20, tol     0.4119, tol(j)/tol(j-1)      0.991\n",
      "Maximum number of iterations reached, tolerance: 0.4119\n",
      "Elapsed time 0.0148 seconds\n",
      "Begin Newton-Kantorovich iterations (for the 1 time)\n",
      "Iteration 1, tol     0.9393, tol(j)/tol(j-1)          1\n",
      "Iteration 2, tol       0.13, tol(j)/tol(j-1)     0.1384\n",
      "Iteration 3, tol    0.02133, tol(j)/tol(j-1)      0.164\n",
      "Iteration 4, tol  0.0006562, tol(j)/tol(j-1)    0.03077\n",
      "Iteration 5, tol  2.616e-07, tol(j)/tol(j-1)  0.0003986\n",
      "Iteration 6, tol  1.364e-12, tol(j)/tol(j-1)  5.216e-06\n",
      "N-K converged after 6 iterations, tolerance: 1.364e-12\n",
      "Elapsed time 0.0319 seconds\n",
      "Convergence achieved!\n",
      "Elapsed time: 0.0477 (seconds)\n"
     ]
    }
   ],
   "source": [
    "algorithm = 'poly'\n",
    "do_settings_solver = {\n",
    "    'sa_min': 10,\n",
    "    'sa_max': 20,  \n",
    "    'printfxp': 2\n",
    "}\n",
    "\n",
    "solver = solve_NFXP(**do_settings_solver)\n",
    "model = zurcher()\n",
    "\n",
    "if algorithm == 'sa':\n",
    "    ev = solver.sa(model.bellman)\n",
    "if algorithm == 'poly':\n",
    "    ev = solver.poly(model.bellman)\n",
    "else:\n",
    "    print('Algorithm must be \"sa\" or \"poly\"')"
   ]
  },
  {
   "cell_type": "markdown",
   "metadata": {},
   "source": [
    "#### 6. Now we have to estimate the model. In order to estimate the model, you should understand:\n",
    "<il type =\"a\">\n",
    "<li> zurcher.read_busdata </li>\n",
    "<li> estimate_NFXP.estimate  </li>\n",
    "<li> estimate_NFXP.ll  </li>\n",
    "</il>\n",
    "\n",
    "You can see how they are called below:"
   ]
  },
  {
   "cell_type": "markdown",
   "metadata": {},
   "source": [
    "#### 7. Fill in the missing stuff in the function estimate_NFXP.ll, and estimate the model to check that your results are correct"
   ]
  },
  {
   "cell_type": "code",
   "execution_count": 5,
   "metadata": {},
   "outputs": [
    {
     "name": "stderr",
     "output_type": "stream",
     "text": [
      "C:\\Users\\jem\\Dropbox (ROCKWOOL Foundation)\\Dynamic Economics\\2022\\resources_jeppe\\Github\\2_dynamic_discrete_choice\\exercises\\ex_post\\estimate_NFXP.py:122: FutureWarning: Support for multi-dimensional indexing (e.g. `obj[:, None]`) is deprecated and will be removed in a future version.  Convert to a numpy array before indexing instead.\n",
      "  score = ((d - (1- lik_pr))[:,None])   * ( np.vstack((-np.ones(N), dc[x-1], np.zeros((n_p,N)))).T + np.broadcast_to(dev_dtheta[0],(N,2+n_p)) - dev_dtheta[x-1] )\n"
     ]
    },
    {
     "name": "stdout",
     "output_type": "stream",
     "text": [
      "Structual estimation using busdata from Rust(1987)\n",
      "Beta        = 0.9999\n",
      "n           = 175\n",
      "Sample size = 8156\n",
      " \n",
      "\n",
      "Parameters     Estimates    s.e. \n",
      "RC             9.8673     1.2072 \n",
      "c              1.3408     0.3199 \n",
      " \n",
      "p(1)           0.1069     0.0034  \n",
      "p(2)           0.5154     0.0055  \n",
      "p(3)           0.3621     0.0053  \n",
      "p(4)           0.0143     0.0013  \n",
      "\n",
      "Log-likelihood -8605.96\n",
      "runtime (seconds) 1.7784\n",
      "The model converged: True\n"
     ]
    }
   ],
   "source": [
    "# Set up the model\n",
    "model = zurcher()\n",
    "\n",
    "# Set-up solver\n",
    "solver = solve_NFXP()\n",
    "\n",
    "# Read the data\n",
    "data = model.read_busdata(bustypes=[1,2,3,4])\n",
    "samplesize = data.shape[0]\n",
    "\n",
    "# Estimate the model\n",
    "import time\n",
    "t0 = time.time()\n",
    "theta0 = [0,0]\n",
    "\n",
    "# args for nfxp estimate\n",
    "nfxp_model, optim_res, pnames, theta_hat, Avar, converged=estimate.estimate(model, solver,data,theta0=theta0, twostep=0)\n",
    "\n",
    "t1 = time.time()\n",
    "time = t1-t0\n",
    "\n",
    "# Print the result\n",
    "print(f'Structual estimation using busdata from Rust(1987)')\n",
    "print(f'Beta        = {model.beta:.4f}')\n",
    "print(f'n           = {model.n}')\n",
    "print(f'Sample size = {samplesize}\\n \\n')\n",
    "\n",
    "print(f'Parameters     Estimates    s.e. ') \n",
    "print(f'{pnames[0]}             {theta_hat[0]:.4f}     {np.sqrt(Avar[0,0]):.4f} ')\n",
    "print(f'{pnames[1]}              {theta_hat[1]:.4f}     {np.sqrt(Avar[1,1]):.4f} \\n ')\n",
    "print(f'{pnames[2]}(1)           {theta_hat[2]:.4f}     {np.sqrt(Avar[2,2]):.4f}  ')\n",
    "print(f'{pnames[2]}(2)           {theta_hat[3]:.4f}     {np.sqrt(Avar[3,3]):.4f}  ')\n",
    "print(f'{pnames[2]}(3)           {theta_hat[4]:.4f}     {np.sqrt(Avar[4,4]):.4f}  ')\n",
    "print(f'{pnames[2]}(4)           {theta_hat[5]:.4f}     {np.sqrt(Avar[5,5]):.4f}  \\n')\n",
    "\n",
    "\n",
    "print(f'Log-likelihood {-optim_res.fun*samplesize:.2f}') \n",
    "print(f'runtime (seconds) {time:.4f}')\n",
    "print(f'The model converged: {converged}')"
   ]
  },
  {
   "cell_type": "markdown",
   "metadata": {},
   "source": [
    "#### 8. Try using line_profiler in python. This gives you a lot of information about the performance of your code"
   ]
  },
  {
   "cell_type": "code",
   "execution_count": 6,
   "metadata": {},
   "outputs": [
    {
     "data": {
      "text/plain": [
       "Timer unit: 1e-07 s\n",
       "\n",
       "Total time: 2.2993 s\n",
       "File: C:\\Users\\jem\\Dropbox (ROCKWOOL Foundation)\\Dynamic Economics\\2022\\resources_jeppe\\Github\\2_dynamic_discrete_choice\\exercises\\ex_post\\estimate_NFXP.py\n",
       "Function: estimate at line 9\n",
       "\n",
       "Line #      Hits         Time  Per Hit   % Time  Line Contents\n",
       "==============================================================\n",
       "     9                                           def estimate(model,solver,data,theta0=[0,0],twostep=0):\n",
       "    10                                               global ev\n",
       "    11         1        357.0    357.0      0.0      ev = np.zeros(1) \n",
       "    12                                               \n",
       "    13         1        364.0    364.0      0.0      samplesize = data.shape[0]\n",
       "    14                                               \n",
       "    15                                               # STEP 1: Find p \n",
       "    16         1      25300.0  25300.0      0.1      tabulate = data.dx1.value_counts()\n",
       "    17         1       3934.0   3934.0      0.0      p = [tabulate[i]/sum(tabulate) for i in range(tabulate.size-1)]\n",
       "    18                                           \n",
       "    19                                               # STEP 2: Estimate structual parameters\n",
       "    20         1         63.0     63.0      0.0      model.p = p # Use first step estimates as starting values for p\n",
       "    21                                               \n",
       "    22                                               # Estimate RC and C\n",
       "    23         1         29.0     29.0      0.0      pnames = ['RC','c']\n",
       "    24                                               \n",
       "    25         1   15179008.0 15179008.0     66.0      res = optimize.minimize(ll,theta0,args = (model, solver, data, pnames), method = 'trust-ncg',jac = grad, hess = hes, tol=1e-8)\n",
       "    26         1        398.0    398.0      0.0      model = updatepar(model,pnames,res.x)\n",
       "    27                                               \n",
       "    28                                               # Estimate RC, c and p\n",
       "    29         1         41.0     41.0      0.0      if twostep == 0:\n",
       "    30         1         32.0     32.0      0.0          pnames = ['RC','c','p']\n",
       "    31         1         88.0     88.0      0.0          theta0 = [model.RC, model.c] + model.p.tolist()\n",
       "    32         1    7421007.0 7421007.0     32.3          res = optimize.minimize(ll,theta0, args = (model,solver,data, pnames), method = 'trust-ncg',jac = grad, hess = hes, tol = 1e-8)\n",
       "    33                                           \n",
       "    34         1        786.0    786.0      0.0          model=updatepar(model,pnames,res.x)\n",
       "    35                                           \n",
       "    36                                               # Converged\n",
       "    37         1        112.0    112.0      0.0      converged   =   (res.status == 2 or res.status ==0)\n",
       "    38                                           \n",
       "    39                                               # Compute Variance-Covaiance matrix\n",
       "    40         1     359669.0 359669.0      1.6      h = hes(res.x, model, solver,data, pnames)\n",
       "    41         1       1562.0   1562.0      0.0      Avar = np.linalg.inv(h*samplesize)\n",
       "    42                                           \n",
       "    43         1        170.0    170.0      0.0      theta_hat = res.x\n",
       "    44                                               \n",
       "    45         1         37.0     37.0      0.0      return model, res, pnames, theta_hat, Avar, converged\n",
       "\n",
       "Total time: 2.0318 s\n",
       "File: C:\\Users\\jem\\Dropbox (ROCKWOOL Foundation)\\Dynamic Economics\\2022\\resources_jeppe\\Github\\2_dynamic_discrete_choice\\exercises\\ex_post\\estimate_NFXP.py\n",
       "Function: ll at line 47\n",
       "\n",
       "Line #      Hits         Time  Per Hit   % Time  Line Contents\n",
       "==============================================================\n",
       "    47                                           def ll(theta, model, solver,data, pnames, out=1): # out=1 solve optimization\n",
       "    48                                               global ev\n",
       "    49                                               \n",
       "    50                                               #Unpack\n",
       "    51        89      90955.0   1022.0      0.4      x = data.x\n",
       "    52        89      54943.0    617.3      0.3      d = data.d\n",
       "    53        89      50782.0    570.6      0.2      dx1 = data.dx1\n",
       "    54                                               \n",
       "    55                                               # Update values\n",
       "    56        89      31325.0    352.0      0.2      model=updatepar(model,pnames,theta)\n",
       "    57        89      14163.0    159.1      0.1      model.p = np.abs(model.p)    # helps BHHH which is run as unconstrained optimization\n",
       "    58        89    1929842.0  21683.6      9.5      model.create_grid()\n",
       "    59        89       3470.0     39.0      0.0      ev0 = ev\n",
       "    60                                           \n",
       "    61                                               # Solve the model\n",
       "    62        89   13182347.0 148116.3     64.9      ev, pk, dev = solver.poly(model.bellman, V0=ev0 ,beta=model.beta, output=3)\n",
       "    63                                           \n",
       "    64                                               # Evaluate likelihood function\n",
       "    65        89     238343.0   2678.0      1.2      lik_pr = pk[x]    \n",
       "    66        89    3301304.0  37093.3     16.2      log_lik = np.log(lik_pr+(1-2*lik_pr)*d)   \n",
       "    67                                           \n",
       "    68                                               # add on log like for mileage process\n",
       "    69        89       4824.0     54.2      0.0      if theta.size>2:\n",
       "    70        27      47311.0   1752.3      0.2          p = np.append(model.p,1-np.sum(model.p))\n",
       "    71        27       8130.0    301.1      0.0          if any(p<=0):\n",
       "    72         2      31388.0  15694.0      0.2              log_lik -= 100000*p[dx1]\n",
       "    73                                                   else:\n",
       "    74        25     428547.0  17141.9      2.1              log_lik += np.log(p[dx1])\n",
       "    75                                                   \n",
       "    76                                               else:\n",
       "    77        62       1883.0     30.4      0.0          p = np.nan\n",
       "    78                                           \n",
       "    79                                           \n",
       "    80        89       2703.0     30.4      0.0      if out == 1:\n",
       "    81                                                   # Objective function (negative mean log likleihood)\n",
       "    82        58     894863.0  15428.7      4.4          return np.mean(-log_lik)\n",
       "    83                                           \n",
       "    84        31        831.0     26.8      0.0      return model,lik_pr, pk, ev, dev, d,x,dx1"
      ]
     },
     "metadata": {},
     "output_type": "display_data"
    }
   ],
   "source": [
    "%lprun -f estimate.ll  -f estimate.estimate estimate.estimate(model, solver,data,theta0=theta0, twostep=0)"
   ]
  },
  {
   "cell_type": "code",
   "execution_count": 7,
   "metadata": {},
   "outputs": [
    {
     "data": {
      "text/plain": [
       "Timer unit: 1e-07 s\n",
       "\n",
       "Total time: 0.0246204 s\n",
       "File: C:\\Users\\jem\\Dropbox (ROCKWOOL Foundation)\\Dynamic Economics\\2022\\resources_jeppe\\Github\\2_dynamic_discrete_choice\\exercises\\ex_post\\Solve_NFXP.py\n",
       "Function: poly at line 30\n",
       "\n",
       "Line #      Hits         Time  Per Hit   % Time  Line Contents\n",
       "==============================================================\n",
       "    30                                               def poly(self,bellman, V0=np.zeros(1), beta= 0.0, output=1):\n",
       "    31                                           \n",
       "    32         1         32.0     32.0      0.0          t0poly = time.time()  # set the starting time\n",
       "    33                                           \n",
       "    34         6        110.0     18.3      0.0          for k in range(self.max_fxpiter):\n",
       "    35                                           \n",
       "    36                                                       # 1. CONTRACTION ITERATIONS (S-A)\n",
       "    37         5         75.0     15.0      0.0              if self.printfxp>0:\n",
       "    38                                                           print(f'Begin contraction iterations (for the {k+1} time)')\n",
       "    39         5     109324.0  21864.8     44.4              V0,iter_sa= self.sa(bellman,V0,beta)\n",
       "    40                                           \n",
       "    41                                                       # 2. NEWTON-KANTOROVICH ITERATIONS\n",
       "    42         5        129.0     25.8      0.1              if self.printfxp>0:\n",
       "    43                                                           print(f'Begin Newton-Kantorovich iterations (for the {k+1} time)')\n",
       "    44         5     136215.0  27243.0     55.3              V0,pk,dV, iter_nk = self.nk(bellman,V0)\n",
       "    45                                           \n",
       "    46                                           \n",
       "    47         5        104.0     20.8      0.0              t1poly = time.time()\n",
       "    48         5         90.0     18.0      0.0              if iter_nk.converged=='true':\n",
       "    49         5         82.0     16.4      0.0                  if self.printfxp>0:\n",
       "    50                                                               print(f'Convergence achieved!')\n",
       "    51                                                               print(f'Elapsed time: {(t1poly-t0poly):.4f} (seconds)')\n",
       "    52                                                               break \n",
       "    53                                                       else:\n",
       "    54                                                           if k >= self.max_fxpiter:\n",
       "    55                                                               print(f'No convergence! Maximum number of iterations exceeded without convergence!')\n",
       "    56                                                               break\n",
       "    57         1         16.0     16.0      0.0          V = V0\n",
       "    58         1         12.0     12.0      0.0          if output==1:            \n",
       "    59         1         15.0     15.0      0.0              return V\n",
       "    60                                                   if output==2:            \n",
       "    61                                                       return V, pk\n",
       "    62                                                   if output==3:            \n",
       "    63                                                       return V, pk, dV\n",
       "    64                                                   if output==5:            \n",
       "    65                                                       return V, pk, dV, iter_sa, iter_nk\n",
       "    66                                                   else:\n",
       "    67                                                       print('solve_NFXP.poly: output must be 1,2,3 or 5')\n",
       "\n",
       "Total time: 0.013213 s\n",
       "File: C:\\Users\\jem\\Dropbox (ROCKWOOL Foundation)\\Dynamic Economics\\2022\\resources_jeppe\\Github\\2_dynamic_discrete_choice\\exercises\\ex_post\\Solve_NFXP.py\n",
       "Function: nk at line 106\n",
       "\n",
       "Line #      Hits         Time  Per Hit   % Time  Line Contents\n",
       "==============================================================\n",
       "   106                                               def nk(self,bellman, V0):\n",
       "   107         5       1413.0    282.6      1.1          class iteration: pass\n",
       "   108         5        128.0     25.6      0.1          t0 = time.time()\n",
       "   109         5        680.0    136.0      0.5          iteration.tol =  np.nan+np.zeros((self.pi_max))\n",
       "   110         5        354.0     70.8      0.3          iteration.rtol = np.nan+np.zeros((self.pi_max))\n",
       "   111         5        114.0     22.8      0.1          iteration.converged = 'false'\n",
       "   112                                           \n",
       "   113         5        126.0     25.2      0.1          m = V0.size\n",
       "   114                                           \n",
       "   115         8        254.0     31.8      0.2          for i in range(self.pi_max):\n",
       "   116                                           \n",
       "   117                                                       # Do N-K step\n",
       "   118         8      22198.0   2774.8     16.8              V1, pk, dV = bellman(V0,output=3)\n",
       "   119         8       8548.0   1068.5      6.5              F = np.eye(m)-dV\n",
       "   120         8      73648.0   9206.0     55.7              V = V0 - np.linalg.inv(F) @ (V0 - V1) \n",
       "   121                                                       \n",
       "   122                                                       # do additional SA iteration for stability and accurate measure of error bound\n",
       "   123         8      11939.0   1492.4      9.0              V0 = bellman(V,output=1)\n",
       "   124                                           \n",
       "   125                                                       # Tolerance\n",
       "   126         8       4682.0    585.2      3.5              iteration.tol[i]=max(abs(V-V0))\n",
       "   127         8        639.0     79.9      0.5              iteration.rtol[i] = iteration.tol[i]/(iteration.tol[max(i-1,0)] + 1.0e-15)      \n",
       "   128                                           \n",
       "   129                                                       #Adjust \n",
       "   130         8       4474.0    559.2      3.4              adj  = np.ceil(np.log10(abs(max(V0))))\n",
       "   131         8        528.0     66.0      0.4              ltol = self.pi_tol*10**adj  # Adjust final tolerance\n",
       "   132                                           \n",
       "   133         8        186.0     23.2      0.1              if iteration.tol[i] < ltol:\n",
       "   134                                                           #Convergence achieved\n",
       "   135         5        859.0    171.8      0.7                  iteration.message = \"N-K converged after {} iterations, tolerance: {:.4g}\".format(i+1,iteration.tol[i])\n",
       "   136         5         88.0     17.6      0.1                  iteration.converged = 'true'\n",
       "   137         5         78.0     15.6      0.1                  break\n",
       "   138                                                   \n",
       "   139         5         96.0     19.2      0.1          iteration.n = i+1\n",
       "   140         5        196.0     39.2      0.1          iteration.tol = iteration.tol[0:i+1]\n",
       "   141         5        159.0     31.8      0.1          iteration.rtol = iteration.rtol[0:i+1]\n",
       "   142         5        189.0     37.8      0.1          t1 = time.time()\n",
       "   143         5        125.0     25.0      0.1          iteration.time = t1-t0 \n",
       "   144                                           \n",
       "   145         5        300.0     60.0      0.2          self.print_output(iteration)\n",
       "   146                                           \n",
       "   147         5        129.0     25.8      0.1          return V, pk, dV, iteration"
      ]
     },
     "metadata": {},
     "output_type": "display_data"
    }
   ],
   "source": [
    "%lprun -f solve_NFXP.nk -f solve_NFXP.poly solve_NFXP.poly(solver,model.bellman)"
   ]
  },
  {
   "cell_type": "markdown",
   "metadata": {},
   "source": [
    "a) Now try changing the optimizer options, and turn the use of the non-numerical Hessian off . What happens?\n",
    "\n",
    "b) Now also try it with the analytical gradient off, what happens?"
   ]
  },
  {
   "cell_type": "code",
   "execution_count": 8,
   "metadata": {},
   "outputs": [
    {
     "name": "stdout",
     "output_type": "stream",
     "text": [
      "BHHH:\n"
     ]
    },
    {
     "name": "stderr",
     "output_type": "stream",
     "text": [
      "C:\\Users\\jem\\Dropbox (ROCKWOOL Foundation)\\Dynamic Economics\\2022\\resources_jeppe\\Github\\2_dynamic_discrete_choice\\exercises\\ex_post\\alternative_specifications_ex7.py:144: FutureWarning: Support for multi-dimensional indexing (e.g. `obj[:, None]`) is deprecated and will be removed in a future version.  Convert to a numpy array before indexing instead.\n",
      "  score = ((d - (1- lik_pr))[:,None])   * ( np.vstack((-np.ones(N), dc[x-1], np.zeros((n_p,N)))).T + np.broadcast_to(dev_dtheta[0],(N,2+n_p)) - dev_dtheta[x-1] )\n"
     ]
    },
    {
     "name": "stdout",
     "output_type": "stream",
     "text": [
      "Time is 1.7203 seconds. The model converges: True\n",
      "Time is 1.8479 seconds. The model converges: True\n",
      "Time is 1.7793 seconds. The model converges: True\n",
      "Time is 1.8401 seconds. The model converges: True\n",
      "Time is 1.8579 seconds. The model converges: True\n",
      "Time is 1.8570 seconds. The model converges: True\n",
      "Time is 1.8831 seconds. The model converges: True\n",
      "Time is 1.8613 seconds. The model converges: True\n",
      "1.85 s ± 31.2 ms per loop (mean ± std. dev. of 7 runs, 1 loop each)\n",
      "\n",
      "Hessian is off:\n",
      "Time is 3.1852 seconds. The model converges: True\n"
     ]
    },
    {
     "name": "stderr",
     "output_type": "stream",
     "text": [
      "C:\\Users\\jem\\Dropbox (ROCKWOOL Foundation)\\Dynamic Economics\\2022\\resources_jeppe\\Github\\2_dynamic_discrete_choice\\exercises\\ex_post\\alternative_specifications_ex7.py:144: FutureWarning: Support for multi-dimensional indexing (e.g. `obj[:, None]`) is deprecated and will be removed in a future version.  Convert to a numpy array before indexing instead.\n",
      "  score = ((d - (1- lik_pr))[:,None])   * ( np.vstack((-np.ones(N), dc[x-1], np.zeros((n_p,N)))).T + np.broadcast_to(dev_dtheta[0],(N,2+n_p)) - dev_dtheta[x-1] )\n"
     ]
    },
    {
     "name": "stdout",
     "output_type": "stream",
     "text": [
      "Time is 3.3615 seconds. The model converges: True\n"
     ]
    },
    {
     "name": "stderr",
     "output_type": "stream",
     "text": [
      "C:\\Users\\jem\\Dropbox (ROCKWOOL Foundation)\\Dynamic Economics\\2022\\resources_jeppe\\Github\\2_dynamic_discrete_choice\\exercises\\ex_post\\alternative_specifications_ex7.py:144: FutureWarning: Support for multi-dimensional indexing (e.g. `obj[:, None]`) is deprecated and will be removed in a future version.  Convert to a numpy array before indexing instead.\n",
      "  score = ((d - (1- lik_pr))[:,None])   * ( np.vstack((-np.ones(N), dc[x-1], np.zeros((n_p,N)))).T + np.broadcast_to(dev_dtheta[0],(N,2+n_p)) - dev_dtheta[x-1] )\n"
     ]
    },
    {
     "name": "stdout",
     "output_type": "stream",
     "text": [
      "Time is 3.1744 seconds. The model converges: True\n"
     ]
    },
    {
     "name": "stderr",
     "output_type": "stream",
     "text": [
      "C:\\Users\\jem\\Dropbox (ROCKWOOL Foundation)\\Dynamic Economics\\2022\\resources_jeppe\\Github\\2_dynamic_discrete_choice\\exercises\\ex_post\\alternative_specifications_ex7.py:144: FutureWarning: Support for multi-dimensional indexing (e.g. `obj[:, None]`) is deprecated and will be removed in a future version.  Convert to a numpy array before indexing instead.\n",
      "  score = ((d - (1- lik_pr))[:,None])   * ( np.vstack((-np.ones(N), dc[x-1], np.zeros((n_p,N)))).T + np.broadcast_to(dev_dtheta[0],(N,2+n_p)) - dev_dtheta[x-1] )\n"
     ]
    },
    {
     "name": "stdout",
     "output_type": "stream",
     "text": [
      "Time is 3.3455 seconds. The model converges: True\n"
     ]
    },
    {
     "name": "stderr",
     "output_type": "stream",
     "text": [
      "C:\\Users\\jem\\Dropbox (ROCKWOOL Foundation)\\Dynamic Economics\\2022\\resources_jeppe\\Github\\2_dynamic_discrete_choice\\exercises\\ex_post\\alternative_specifications_ex7.py:144: FutureWarning: Support for multi-dimensional indexing (e.g. `obj[:, None]`) is deprecated and will be removed in a future version.  Convert to a numpy array before indexing instead.\n",
      "  score = ((d - (1- lik_pr))[:,None])   * ( np.vstack((-np.ones(N), dc[x-1], np.zeros((n_p,N)))).T + np.broadcast_to(dev_dtheta[0],(N,2+n_p)) - dev_dtheta[x-1] )\n"
     ]
    },
    {
     "name": "stdout",
     "output_type": "stream",
     "text": [
      "Time is 3.1117 seconds. The model converges: True\n"
     ]
    },
    {
     "name": "stderr",
     "output_type": "stream",
     "text": [
      "C:\\Users\\jem\\Dropbox (ROCKWOOL Foundation)\\Dynamic Economics\\2022\\resources_jeppe\\Github\\2_dynamic_discrete_choice\\exercises\\ex_post\\alternative_specifications_ex7.py:144: FutureWarning: Support for multi-dimensional indexing (e.g. `obj[:, None]`) is deprecated and will be removed in a future version.  Convert to a numpy array before indexing instead.\n",
      "  score = ((d - (1- lik_pr))[:,None])   * ( np.vstack((-np.ones(N), dc[x-1], np.zeros((n_p,N)))).T + np.broadcast_to(dev_dtheta[0],(N,2+n_p)) - dev_dtheta[x-1] )\n"
     ]
    },
    {
     "name": "stdout",
     "output_type": "stream",
     "text": [
      "Time is 3.0587 seconds. The model converges: True\n"
     ]
    },
    {
     "name": "stderr",
     "output_type": "stream",
     "text": [
      "C:\\Users\\jem\\Dropbox (ROCKWOOL Foundation)\\Dynamic Economics\\2022\\resources_jeppe\\Github\\2_dynamic_discrete_choice\\exercises\\ex_post\\alternative_specifications_ex7.py:144: FutureWarning: Support for multi-dimensional indexing (e.g. `obj[:, None]`) is deprecated and will be removed in a future version.  Convert to a numpy array before indexing instead.\n",
      "  score = ((d - (1- lik_pr))[:,None])   * ( np.vstack((-np.ones(N), dc[x-1], np.zeros((n_p,N)))).T + np.broadcast_to(dev_dtheta[0],(N,2+n_p)) - dev_dtheta[x-1] )\n"
     ]
    },
    {
     "name": "stdout",
     "output_type": "stream",
     "text": [
      "Time is 3.2245 seconds. The model converges: True\n"
     ]
    },
    {
     "name": "stderr",
     "output_type": "stream",
     "text": [
      "C:\\Users\\jem\\Dropbox (ROCKWOOL Foundation)\\Dynamic Economics\\2022\\resources_jeppe\\Github\\2_dynamic_discrete_choice\\exercises\\ex_post\\alternative_specifications_ex7.py:144: FutureWarning: Support for multi-dimensional indexing (e.g. `obj[:, None]`) is deprecated and will be removed in a future version.  Convert to a numpy array before indexing instead.\n",
      "  score = ((d - (1- lik_pr))[:,None])   * ( np.vstack((-np.ones(N), dc[x-1], np.zeros((n_p,N)))).T + np.broadcast_to(dev_dtheta[0],(N,2+n_p)) - dev_dtheta[x-1] )\n"
     ]
    },
    {
     "name": "stdout",
     "output_type": "stream",
     "text": [
      "Time is 3.2403 seconds. The model converges: True\n",
      "3.22 s ± 105 ms per loop (mean ± std. dev. of 7 runs, 1 loop each)\n",
      "\n",
      "Hessian and gradient are off:\n",
      "Time is 3.3373 seconds. The model converges: True\n",
      "Time is 3.3872 seconds. The model converges: True\n",
      "Time is 3.4022 seconds. The model converges: True\n",
      "Time is 3.2487 seconds. The model converges: True\n",
      "Time is 3.2812 seconds. The model converges: True\n",
      "Time is 3.5109 seconds. The model converges: True\n",
      "Time is 3.4410 seconds. The model converges: True\n",
      "Time is 3.3649 seconds. The model converges: True\n",
      "3.38 s ± 85.1 ms per loop (mean ± std. dev. of 7 runs, 1 loop each)\n"
     ]
    }
   ],
   "source": [
    "import alternative_specifications_ex7 as a_s_ex7\n",
    "\n",
    "model = zurcher()\n",
    "solver = solve_NFXP()\n",
    "\n",
    "#Ordinaty\n",
    "print('BHHH:')\n",
    "%timeit nfxp_results = a_s_ex7.estimate(model, solver,data,theta0=theta0, twostep=0,est_type=0)\n",
    "\n",
    "\n",
    "# Hessian off\n",
    "print('')\n",
    "print('Hessian is off:')\n",
    "%timeit nfxp_result = a_s_ex7.estimate(model, solver,data,theta0=theta0, twostep=0,est_type=1)\n",
    "\n",
    "\n",
    "#Hessian and gradient ofF \n",
    "print('')\n",
    "print('Hessian and gradient are off:')\n",
    "%timeit nfxp_results = a_s_ex7.estimate(model, solver,data,theta0=theta0, twostep=0,est_type=2)\n"
   ]
  },
  {
   "cell_type": "markdown",
   "metadata": {},
   "source": [
    "#### 9. Try estimate the model for different values of $\\beta$. \n",
    "\n",
    "(a) Why can we not estimate $\\beta$?\n",
    "\n",
    "(b) When estimating with different $\\beta$, do the changes in the estimates of c and/or RC make intuitively sense?\n",
    "\n",
    "(c) Can you think of some data/variation, which could allow us to identify $\\beta$?"
   ]
  },
  {
   "cell_type": "code",
   "execution_count": null,
   "metadata": {},
   "outputs": [],
   "source": [
    "# VARY BETA: \n",
    "Nbeta = 4\n",
    "beta = np.linspace(0.5,0.9999,Nbeta)\n",
    "log_lik = np.nan + np.zeros((Nbeta,1))\n",
    "theta_hats =  np.nan + np.zeros((Nbeta,2))\n",
    "\n",
    "data = model.read_busdata(bustypes=[1,2,3,4])\n",
    "samplesize = data.shape[0]\n",
    "\n",
    "print(f'beta     RC     C       log_lik')\n",
    "for i in range(Nbeta):\n",
    "    \n",
    "    # Set up the model\n",
    "    do_settings = {\n",
    "    'beta': beta[i]\n",
    "    }\n",
    "    model = zurcher(**do_settings)\n",
    "\n",
    "\n",
    "    # Set-up solver\n",
    "    solver = solve_NFXP()\n",
    "\n",
    "    # Estimate the model\n",
    "    theta0 = [0,0]\n",
    "    nfxp_model, optim_res, pnames, theta_hat, Avar, converged=estimate.estimate(model, solver,data,theta0=theta0, twostep=0)\n",
    "\n",
    "    \n",
    "    theta_hats[i,0] = theta_hat[0]\n",
    "    theta_hats[i,1] = theta_hat[1]\n",
    "    log_lik[i]=-optim_res.fun*samplesize\n",
    "    print(f'{beta[i]:.4f} {theta_hats[i,0]:.4f} {theta_hats[i,1]:.4f} {log_lik[i]} ')\n",
    "\n"
   ]
  },
  {
   "cell_type": "markdown",
   "metadata": {},
   "source": [
    "#### 10. We use the latest EV guess to start the solve-procedure even though we change $\\theta$ from one likelihood iteration to another. Why do you think we do that? \n",
    "(a) What if we started over with EV=0 each iteration? Try that and see what happens with the parameters and the numerical performance."
   ]
  },
  {
   "cell_type": "code",
   "execution_count": null,
   "metadata": {},
   "outputs": [],
   "source": [
    "import alternative_specifications_ex9 as a_s_ex9 \n",
    "\n",
    "# Ordinary\n",
    "print('Same EV')\n",
    "%timeit a_s_ex9.estimate(model, solver,data,0)\n",
    "nfxp_results_ord, theta_hat_ord = a_s_ex9.estimate(model, solver,data,0)\n",
    "\n",
    "\n",
    "# Change EV=0 in each iteration\n",
    "print('EV=0')\n",
    "%timeit a_s_ex9.estimate(model, solver,data,1)\n",
    "nfxp_results_diff, theta_hat_diff = a_s_ex9.estimate(model, solver,data,1)\n",
    "\n",
    "print('')\n",
    "print(f'                 Same EV       EV=0')\n",
    "print(f'{pnames[0]}               {theta_hat_ord[0]:.4f}       {theta_hat_diff[0]:.4f}')\n",
    "print(f'{pnames[1]}                {theta_hat_ord[1]:.4f}       {theta_hat_diff[1]:.4f}')"
   ]
  },
  {
   "cell_type": "markdown",
   "metadata": {},
   "source": [
    "#### 11. Try setting the maximum number of miles (odometer reading) to 900. Now the absorbing state is much higher. \n",
    "\n",
    "(a) If we adjust the number of grid points as well, so that we have a comparable model (multiply the number of grids by 2), do we get a better fit? \n",
    "\n",
    "(b) Try to lower the number of grid points to 175 again. How do the parameters change? Are the changes intuitive? \n",
    "\n",
    "(c) What if you change the max to 225 and half the number of grids (hint: what goes wrong?)?"
   ]
  },
  {
   "cell_type": "code",
   "execution_count": 9,
   "metadata": {},
   "outputs": [],
   "source": [
    "# Function for adjusting Grid-points\n",
    "def adjust_grid_point(maks, n):\n",
    "    # Set up the model\n",
    "    do_settings = {\n",
    "    'max': maks,\n",
    "    'n': n\n",
    "    }\n",
    "    model = zurcher(**do_settings)\n",
    "\n",
    "    # Set-up solver\n",
    "    solver = solve_NFXP()\n",
    "        \n",
    "    # Read the data\n",
    "    data = model.read_busdata(bustypes=[1,2,3,4])\n",
    "    samplesize = data.shape[0]\n",
    "\n",
    "    # Estimate the model\n",
    "    theta0 = [0,0]\n",
    "    breakpoint()\n",
    "    nfxp_model, result, pnames, theta, Avar, converged=estimate.estimate(model, solver,data,theta0=theta0, twostep=0)\n",
    "\n",
    "    \n",
    "    print(f'Parameters     Estimates    s.e. ') \n",
    "    print(f'{pnames[0]}             {theta[0]:.4f}     {np.sqrt(Avar[0,0]):.4f} ')\n",
    "    print(f'{pnames[1]}              {theta[1]:.4f}     {np.sqrt(Avar[1,1]):.4f} \\n ')\n",
    "    print(f'Log-likelihood now {-result.fun*samplesize:.4f}\\n \\n') \n"
   ]
  },
  {
   "cell_type": "code",
   "execution_count": null,
   "metadata": {},
   "outputs": [],
   "source": [
    "# Baseline max = 450, n = 175\n",
    "print(f'Baseline')\n",
    "adjust_grid_point(450,175);\n",
    "\n",
    "# a)  max = 900, n = 175*2\n",
    "print(f'Question (a)')\n",
    "adjust_grid_point(450*2,175*2)\n",
    "\n",
    "# b) max = 600, n = 175\n",
    "print(f'Question (b)')\n",
    "adjust_grid_point(600,175)\n",
    "\n",
    "# c) max =225, n = 175/2\n",
    "print(f'Question (c)')\n",
    "adjust_grid_point(int(450/2),int(175/2));"
   ]
  }
 ],
 "metadata": {
  "kernelspec": {
   "display_name": "Python 3 (ipykernel)",
   "language": "python",
   "name": "python3"
  },
  "language_info": {
   "codemirror_mode": {
    "name": "ipython",
    "version": 3
   },
   "file_extension": ".py",
   "mimetype": "text/x-python",
   "name": "python",
   "nbconvert_exporter": "python",
   "pygments_lexer": "ipython3",
   "version": "3.9.12"
  }
 },
 "nbformat": 4,
 "nbformat_minor": 4
}
